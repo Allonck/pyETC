{
 "cells": [
  {
   "cell_type": "markdown",
   "metadata": {},
   "source": [
    "# Exposure Time Calculator tutorial\n"
   ]
  },
  {
   "cell_type": "code",
   "execution_count": null,
   "metadata": {},
   "outputs": [],
   "source": [
    "# Allows interactive plot within this notebook\n",
    "%matplotlib notebook\n",
    "\n",
    "# Allows to take into account modifications made in the source code without having to restart the notebook\n",
    "%reload_ext autoreload\n",
    "%autoreload 2"
   ]
  },
  {
   "cell_type": "markdown",
   "metadata": {},
   "source": [
    "# Telescope configuration Files"
   ]
  },
  {
   "cell_type": "markdown",
   "metadata": {},
   "source": [
    "First you need to define the caracteristics of your telescope in a hjson file. This file must be in pyETC/pyETC/telescope_database/.\n",
    "\n",
    "This file contains all caracteristics of the telescope and its environment you do not need to modify for different observations. (Size of the mirrors, number ad type of lenses, mirrors..., sky background, atmosphere transmission, cameras caracteristics,...)\n",
    "\n",
    "For instance for the COLIBRI: [COLIBRI.hjson](../pyETC/telescope_database/COLIBRI.hjson)"
   ]
  },
  {
   "cell_type": "markdown",
   "metadata": {},
   "source": [
    "# ETC configuration File \n",
    "\n",
    "The ETC configuration file contains information related to the conditions of an observation: moon age, target elevation, seeing, filter band to use, exposure time, number of exposures...\n",
    "\n",
    "An example of configuration file can be found in in pyETC/pyETC/configFiles: [example.hjson](../pyETC/configFiles/example.hjson)\n",
    "\n"
   ]
  },
  {
   "cell_type": "markdown",
   "metadata": {},
   "source": [
    "# Simple user cases"
   ]
  },
  {
   "cell_type": "markdown",
   "metadata": {},
   "source": [
    "## 1) Illustrative example"
   ]
  },
  {
   "cell_type": "markdown",
   "metadata": {},
   "source": [
    "In order to compute the limiting magnitudes you need to define a SNR and an exposure time"
   ]
  },
  {
   "cell_type": "code",
   "execution_count": null,
   "metadata": {},
   "outputs": [],
   "source": [
    "# Load os package, in order to get the environment variable GFT_SIM\n",
    "import os\n",
    "\n",
    "# Load ETC package\n",
    "from pyETC.pyETC import etc"
   ]
  },
  {
   "cell_type": "code",
   "execution_count": null,
   "metadata": {},
   "outputs": [],
   "source": [
    "# load ETC with a config file and the COLIBRI caracteristics\n",
    "COLIBRI_ETC=etc(configFile='example.hjson',name_telescope='colibri')"
   ]
  },
  {
   "cell_type": "code",
   "execution_count": null,
   "metadata": {
    "scrolled": false
   },
   "outputs": [],
   "source": [
    "# Execute\n",
    "COLIBRI_ETC.sim()"
   ]
  },
  {
   "cell_type": "markdown",
   "metadata": {},
   "source": [
    "The plots and results displayed here are also saved in a .txt file in pyETC/results/results_summary.txt"
   ]
  },
  {
   "cell_type": "markdown",
   "metadata": {},
   "source": [
    "The main idea of the ETC is that all information are stored in a dictionnary named \"information\".\n",
    "If you want to know the whole content just write:"
   ]
  },
  {
   "cell_type": "code",
   "execution_count": null,
   "metadata": {},
   "outputs": [],
   "source": [
    "COLIBRI_ETC.information"
   ]
  },
  {
   "cell_type": "markdown",
   "metadata": {},
   "source": [
    "If you want to get the value of one parameter, for instance the computed magnitude, just write:"
   ]
  },
  {
   "cell_type": "code",
   "execution_count": null,
   "metadata": {},
   "outputs": [],
   "source": [
    "COLIBRI_ETC.information['mag']"
   ]
  },
  {
   "cell_type": "markdown",
   "metadata": {},
   "source": [
    "If you want to modify some parameters, there are 2 possibilities:   \n",
    "- either modify the hjson configFile     \n",
    "- or directly change the parameters value in the \"information\" dictionary. This is useful when the ETC is used in a python script interacting with other python packages.\n",
    "\n",
    "For instance, we want to change the exposure time, SNR, seeing, elevation of the target, age of the moon without modifying the input file: "
   ]
  },
  {
   "cell_type": "code",
   "execution_count": null,
   "metadata": {},
   "outputs": [],
   "source": [
    "# Modify the exposure time\n",
    "COLIBRI_ETC.information[\"exptime\"] = 60\n",
    "\n",
    "# Change the number of expositions\n",
    "COLIBRI_ETC.information['Nexp'] = 3\n",
    "\n",
    "# Change the seeing at the zenith, in arcseconds\n",
    "COLIBRI_ETC.information[\"seeing_zenith\"] =1.2\n",
    "\n",
    "# Change the elevation of the target, in degrees \n",
    "COLIBRI_ETC.information['elevation'] = 78\n",
    "\n",
    "#Change the age of the moon\n",
    "COLIBRI_ETC.information[\"moon_age\"] = 2"
   ]
  },
  {
   "cell_type": "code",
   "execution_count": null,
   "metadata": {
    "scrolled": false
   },
   "outputs": [],
   "source": [
    "# Execute again\n",
    "COLIBRI_ETC.sim()"
   ]
  },
  {
   "cell_type": "markdown",
   "metadata": {},
   "source": [
    "In the case of COLIBRI, there 3 channels and one might want to use one NIR band. You just need to specify the channel to use and the filter band, for instance the J band:"
   ]
  },
  {
   "cell_type": "code",
   "execution_count": null,
   "metadata": {},
   "outputs": [],
   "source": [
    "# Select the J filter band\n",
    "COLIBRI_ETC.information[\"filter_band\"] = 'J'\n",
    "\n",
    "# Specify the NIR channel in order to load the NIR channel caracterisitcs (optics transmissions + camera carac.)\n",
    "COLIBRI_ETC.information[\"channel\"] = 'CAGIRE'"
   ]
  },
  {
   "cell_type": "code",
   "execution_count": null,
   "metadata": {
    "scrolled": false
   },
   "outputs": [],
   "source": [
    "# Execute again\n",
    "COLIBRI_ETC.sim()"
   ]
  },
  {
   "cell_type": "markdown",
   "metadata": {
    "collapsed": true
   },
   "source": [
    "## 2) Compute the SNR for a given magnitude (or spectrum) and a exposure time"
   ]
  },
  {
   "cell_type": "markdown",
   "metadata": {},
   "source": [
    "### 2.1) For a given magnitude"
   ]
  },
  {
   "cell_type": "markdown",
   "metadata": {},
   "source": [
    "To compute the SNR for a Vega magnitude of 18 and a single exposure of 5s, we need to modify in the hjson configFile:   \n",
    "\"etc_type\": snr   \n",
    "\"object_type\": magnitude   \n",
    "\"object_magnitude\": 18   \n",
    "\"exptime\": 5   \n",
    "\"photometry_system\": Vega   \n",
    "\n",
    " \n",
    "Here we rather update the dictionary to avoid to use too many configFiles.   \n"
   ]
  },
  {
   "cell_type": "code",
   "execution_count": null,
   "metadata": {},
   "outputs": [],
   "source": [
    "# Now we want to compute the SNR\n",
    "COLIBRI_ETC.information['etc_type'] = 'snr'\n",
    "\n",
    "# Set up the object: either 'magnitude' for a constant magnitude,\n",
    "# or 'spectrum' for a given spectrum in the database,\n",
    "# or 'grb_sim' to ompute the grb spectrum\n",
    "COLIBRI_ETC.information['object_type'] = 'magnitude'\n",
    "\n",
    "# If we select 'magnitude', we need to define the object magnitude \n",
    "COLIBRI_ETC.information['object_magnitude'] = 18\n",
    "\n",
    "# Set an exposure time of 5s\n",
    "COLIBRI_ETC.information['exptime'] = 5\n",
    "\n",
    "# Use Vega system\n",
    "COLIBRI_ETC.information['photometry_system'] = 'Vega'\n",
    "\n"
   ]
  },
  {
   "cell_type": "code",
   "execution_count": null,
   "metadata": {
    "scrolled": false
   },
   "outputs": [],
   "source": [
    "# Execute\n",
    "COLIBRI_ETC.sim()"
   ]
  },
  {
   "cell_type": "markdown",
   "metadata": {},
   "source": [
    "### 2.2) For a given spectrum"
   ]
  },
  {
   "cell_type": "markdown",
   "metadata": {},
   "source": [
    "The spectrum is stored in /data/   \n",
    "Wavelength are in Angstoms and fluxes in erg/s/cm2/A "
   ]
  },
  {
   "cell_type": "code",
   "execution_count": null,
   "metadata": {},
   "outputs": [],
   "source": [
    "# Specify that the object is a spectrum\n",
    "COLIBRI_ETC.information['object_type'] = 'spectrum'\n",
    "\n",
    "# Define the folder. Starting from pyETC/pyETC directory\n",
    "COLIBRI_ETC.information['object_folder'] = '/data/calspec/'\n",
    "\n",
    "# Define the file in this folder\n",
    "COLIBRI_ETC.information['object_file'] = 'bd02d3375_stis_001.txt'\n",
    "\n",
    "#COLIBRI_ETC.information['object_folder'] = '/data/'\n",
    "#COLIBRI_ETC.information['object_file']='bohlin2006_Vega.dat'\n",
    "\n",
    "\n",
    "# Modify the exposure time\n",
    "COLIBRI_ETC.information[\"exptime\"] = 5\n",
    "\n",
    "# Change the number of expositions\n",
    "COLIBRI_ETC.information['Nexp'] = 3\n",
    "\n",
    "# Change the seeing at the zenith, in arcseconds\n",
    "COLIBRI_ETC.information[\"seeing_zenith\"] = 0.79\n",
    "\n",
    "# Change the elevation of the target \n",
    "COLIBRI_ETC.information['elevation'] = 78\n",
    "\n",
    "#Change the age of the moon\n",
    "COLIBRI_ETC.information[\"moon_age\"] = 7\n",
    "\n",
    "# Specify the channel\n",
    "COLIBRI_ETC.information[\"channel\"]= 'DDRAGO-R'\n",
    "\n",
    "# Select the z filter band\n",
    "COLIBRI_ETC.information[\"filter_band\"] = 'z'\n",
    "\n",
    "# Use AB system\n",
    "COLIBRI_ETC.information['photometry_system'] = 'AB'"
   ]
  },
  {
   "cell_type": "code",
   "execution_count": null,
   "metadata": {
    "scrolled": false
   },
   "outputs": [],
   "source": [
    "# Execute\n",
    "COLIBRI_ETC.sim()"
   ]
  },
  {
   "cell_type": "markdown",
   "metadata": {},
   "source": [
    "### 2.3) For a simulated GRB spectrum "
   ]
  },
  {
   "cell_type": "markdown",
   "metadata": {},
   "source": [
    "(Required pyGRBaglow python package)\n",
    "\n",
    "GRB spectrum can be simulated with:   \n",
    "- empirical model: single power law, broken power law\n",
    "- theoretical model: synchrotron model of Granot & Sari 2002\n",
    "\n",
    "In the following we use the theoretical model.  \n",
    "In the following we update the dictionary, but one can also load the tuto_grb_sim.hjson configFile."
   ]
  },
  {
   "cell_type": "code",
   "execution_count": null,
   "metadata": {},
   "outputs": [],
   "source": [
    "# First we specify that the object is a simulated GRB spectrum\n",
    "COLIBRI_ETC.information['object_type'] = 'grb_sim'\n",
    "\n",
    "# Specify the GRB model to use\n",
    "COLIBRI_ETC.information['grb_model'] = 'gs02'\n",
    "\n",
    "# Redshift\n",
    "COLIBRI_ETC.information['grb_redshift'] = 3\n",
    "\n",
    "# Time (in days)\n",
    "COLIBRI_ETC.information['t_sinceBurst'] = 0.2\n",
    "\n",
    "# Equivalent isotropic energy\n",
    "COLIBRI_ETC.information['E_iso'] = 1e53\n",
    "\n",
    "# Gamma-ray radiative efficiency\n",
    "COLIBRI_ETC.information['eta'] = 0.3\n",
    "\n",
    "# fraction of the internal energy given to the magnetic field in the Forward Shock\n",
    "COLIBRI_ETC.information['eps_b'] = 1e-4\n",
    "\n",
    "# fraction of the internal energy given to the electrons accelerated into the Forward Shock\n",
    "COLIBRI_ETC.information['eps_e'] = 0.1\n",
    "\n",
    "# index of the energy distribution of the shocked accelerated electrons\n",
    "COLIBRI_ETC.information['p'] = 2.2\n",
    "\n",
    "# interstellar medium density (in cm3)\n",
    "COLIBRI_ETC.information['n0'] = 1\n",
    "\n",
    "# Inverse Compton parameter, to take into account the Inverse Compton effects on the cooling of electrons\n",
    "COLIBRI_ETC.information['Y'] = 0\n",
    "\n",
    "# ISM type: 0: constant ISM density / 1: Massive star progenitor surounded by its preexplosion Wind\n",
    "COLIBRI_ETC.information['ism_type'] = 0\n",
    "\n",
    "\n",
    "# Host galaxy extinction (either 'mw', 'smc','lmc' or 'none')\n",
    "COLIBRI_ETC.information['host_extinction_law'] = 'smc'\n",
    "# Amount of extinction in the V band (in mag)\n",
    "COLIBRI_ETC.information['Av_Host'] = 0.2 \n",
    "COLIBRI_ETC.information['galactic_extinction_law'] = 'smc'\n",
    "\n",
    "# IGM extinction model: either 'madau' or 'meiksin' or 'none'\n",
    "COLIBRI_ETC.information['IGM_extinction_model'] = 'meiksin'\n",
    "\n",
    "# Galactic extinction, by default a mw extinction law is used\n",
    "# Amount of galactic extinction in V band (in mag)\n",
    "COLIBRI_ETC.information['Av_galactic'] = 0.1\n",
    "\n"
   ]
  },
  {
   "cell_type": "code",
   "execution_count": null,
   "metadata": {
    "scrolled": false
   },
   "outputs": [],
   "source": [
    "#Execute\n",
    "COLIBRI_ETC.sim()"
   ]
  },
  {
   "cell_type": "markdown",
   "metadata": {},
   "source": [
    "## 3) Compute exposure time for a given SNR and magnitude or spectrum"
   ]
  },
  {
   "cell_type": "markdown",
   "metadata": {},
   "source": [
    "Here we compute the exposure time to reach a magnitude of 18 (AB system) in z band with a SNR of 10 with the COLIBRI telescope."
   ]
  },
  {
   "cell_type": "code",
   "execution_count": null,
   "metadata": {},
   "outputs": [],
   "source": [
    "# Specify that we want to compute the exposure time\n",
    "COLIBRI_ETC.information['etc_type'] = 'time'\n",
    "\n",
    "# For a given magnitude\n",
    "COLIBRI_ETC.information['object_type'] = 'magnitude'\n",
    "\n",
    "# Define the object magnitude \n",
    "COLIBRI_ETC.information['object_magnitude'] = 18\n",
    "\n",
    "# Define the SNR\n",
    "COLIBRI_ETC.information['SNR'] = 10\n",
    "\n",
    "# Specify the channel\n",
    "COLIBRI_ETC.information[\"channel\"]= 'DDRAGO-R'\n",
    "\n",
    "# Select the z filter band\n",
    "COLIBRI_ETC.information[\"filter_band\"] = 'z'\n",
    "\n",
    "# Use AB system\n",
    "COLIBRI_ETC.information['photometry_system'] = 'AB'\n",
    "\n",
    "#If you do not want to display the plot:\n",
    "COLIBRI_ETC.information['plot'] = False"
   ]
  },
  {
   "cell_type": "code",
   "execution_count": null,
   "metadata": {
    "scrolled": false
   },
   "outputs": [],
   "source": [
    "# Execute\n",
    "COLIBRI_ETC.sim()"
   ]
  },
  {
   "cell_type": "markdown",
   "metadata": {},
   "source": [
    "## 4) Compute limiting magnitudes"
   ]
  },
  {
   "cell_type": "markdown",
   "metadata": {},
   "source": [
    "Here we want to compute the limiting magnitude for a SNR = 10 and 3 exposures of 10s in r band with the COLIBRI telescope."
   ]
  },
  {
   "cell_type": "code",
   "execution_count": null,
   "metadata": {},
   "outputs": [],
   "source": [
    "# Specify that we want to compute the exposure time\n",
    "COLIBRI_ETC.information['etc_type'] = 'mag'\n",
    "\n",
    "# Define the SNR\n",
    "COLIBRI_ETC.information['SNR'] = 10\n",
    "\n",
    "# Modify the exposure time\n",
    "COLIBRI_ETC.information[\"exptime\"] = 10\n",
    "\n",
    "# Change the number of expositions\n",
    "COLIBRI_ETC.information['Nexp'] = 3\n",
    "\n",
    "# Change the seeing at the zenith, in arcseconds\n",
    "COLIBRI_ETC.information[\"seeing_zenith\"] = 0.79\n",
    "\n",
    "#Change the age of the moon\n",
    "COLIBRI_ETC.information[\"moon_age\"] = 7\n",
    "\n",
    "# Specify the channel\n",
    "COLIBRI_ETC.information[\"channel\"]= 'DDRAGO-B'\n",
    "\n",
    "# Select the z filter band\n",
    "COLIBRI_ETC.information[\"filter_band\"] = 'r'\n",
    "\n",
    "# Use AB system\n",
    "COLIBRI_ETC.information['photometry_system'] = 'AB'\n",
    "\n",
    "#If you do not want to display the plot:\n",
    "COLIBRI_ETC.information['plot'] = False"
   ]
  },
  {
   "cell_type": "code",
   "execution_count": null,
   "metadata": {},
   "outputs": [],
   "source": [
    "COLIBRI_ETC.sim()"
   ]
  },
  {
   "cell_type": "markdown",
   "metadata": {},
   "source": [
    "## 5) Other"
   ]
  },
  {
   "cell_type": "code",
   "execution_count": null,
   "metadata": {},
   "outputs": [],
   "source": [
    "# If you do not want to display verbose:\n",
    "COLIBRI_ETC.information['verbose'] = False\n",
    "\n",
    "# If you do not want to create plots:\n",
    "COLIBRI_ETC.information['plot'] = False\n"
   ]
  },
  {
   "cell_type": "code",
   "execution_count": null,
   "metadata": {},
   "outputs": [],
   "source": [
    "# Write system transmission of the last run in a file named 'sys_trans.txt' with wavelength in nm\n",
    "COLIBRI_ETC.write_file_trans(COLIBRI_ETC.information['system_response'],'sys_trans',wvl_unit='nm')"
   ]
  },
  {
   "cell_type": "code",
   "execution_count": null,
   "metadata": {},
   "outputs": [],
   "source": [
    "# Plot system transmission  of last run\n",
    "trans=COLIBRI_ETC.information['system_response']\n",
    "COLIBRI_ETC.plot_trans(trans,'system_transmision',title='test system response',ylabel='Transmission',\n",
    "                   ylim=[0,1],wvl_unit='microns',passband_centered=True)"
   ]
  },
  {
   "cell_type": "code",
   "execution_count": null,
   "metadata": {},
   "outputs": [],
   "source": []
  }
 ],
 "metadata": {
  "kernelspec": {
   "display_name": "Python 3",
   "language": "python",
   "name": "python3"
  },
  "language_info": {
   "codemirror_mode": {
    "name": "ipython",
    "version": 3
   },
   "file_extension": ".py",
   "mimetype": "text/x-python",
   "name": "python",
   "nbconvert_exporter": "python",
   "pygments_lexer": "ipython3",
   "version": "3.7.3"
  }
 },
 "nbformat": 4,
 "nbformat_minor": 1
}
